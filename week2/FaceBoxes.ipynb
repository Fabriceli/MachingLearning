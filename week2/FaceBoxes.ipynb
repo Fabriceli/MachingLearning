{
 "cells": [
  {
   "cell_type": "markdown",
   "metadata": {},
   "source": [
    "# FaceBoxes: A CPU Real-time Face Detector with High Accuracy"
   ]
  },
  {
   "cell_type": "markdown",
   "metadata": {},
   "source": [
    "#### Rapidly Digested Convolu- tional Layers (RDCL)\n",
    "RDCL：快速消除卷积层，确保Faceboxes在CPU的设备上有实时性，主要分一下三步：\n",
    "- **Shrinking the spatial size of input**：急降空间纬度大小输入，对于卷积和池化层使用大步伐，Conv1:4，Pool1:2，Conv2:2，Pool2:2，合在一起就降低了32倍。\n",
    "- **Choosing suitable kernel size**:选择合适的卷积核，卷积核越小卷积计算越快（因为步伐一定的情况下，卷积核越小，计算量越小），但是卷积核越大越空间域的信息丢失越少，Conv1的kernel：7x7，Conv2的kernel：5x5，Pool1的kernel：3x3，Pool2的kernel：3x3。\n",
    "- **Reducing the number of output channels**:降低输出通道数, 使用c.Relu减少输出通道数"
   ]
  },
  {
   "cell_type": "code",
   "execution_count": 5,
   "metadata": {},
   "outputs": [
    {
     "name": "stdout",
     "output_type": "stream",
     "text": [
      "[[0.04 0.04 0.04]\n",
      " [0.04 0.04 0.04]\n",
      " [0.04 0.04 0.04]]\n",
      "[[[39 55 81]\n",
      "  [38 55 81]\n",
      "  [38 55 81]\n",
      "  ...\n",
      "  [40 54 80]\n",
      "  [41 56 81]\n",
      "  [43 59 84]]\n",
      "\n",
      " [[38 55 81]\n",
      "  [38 55 81]\n",
      "  [38 55 81]\n",
      "  ...\n",
      "  [36 50 75]\n",
      "  [35 49 73]\n",
      "  [37 51 75]]\n",
      "\n",
      " [[38 55 81]\n",
      "  [38 55 81]\n",
      "  [37 54 80]\n",
      "  ...\n",
      "  [28 39 61]\n",
      "  [24 35 54]\n",
      "  [24 34 53]]\n",
      "\n",
      " ...\n",
      "\n",
      " [[ 7 12 12]\n",
      "  [ 7 11 12]\n",
      "  [ 7 11 14]\n",
      "  ...\n",
      "  [ 9 20 28]\n",
      "  [13 22 34]\n",
      "  [14 24 36]]\n",
      "\n",
      " [[ 7 10 13]\n",
      "  [ 6 10 12]\n",
      "  [ 7 11 13]\n",
      "  ...\n",
      "  [15 24 36]\n",
      "  [17 26 43]\n",
      "  [19 28 45]]\n",
      "\n",
      " [[ 7 10 12]\n",
      "  [ 6 10 12]\n",
      "  [ 7 11 13]\n",
      "  ...\n",
      "  [16 26 38]\n",
      "  [19 28 44]\n",
      "  [21 30 47]]]\n"
     ]
    }
   ],
   "source": [
    "import cv2   \n",
    "import numpy as np   \n",
    "from matplotlib import pyplot as plt \n",
    "\n",
    "img = cv2.imread('lenna.jpeg')\n",
    "kernel = np.ones((3,3),np.float32)/25\n",
    "dst = cv2.filter2D(img,-1,kernel)\n",
    "print(kernel)\n",
    "print(dst)\n",
    "\n",
    "# plt.subplot(121),plt.imshow(img)\n",
    "# plt.title('Original'),plt.xticks([]),plt.yticks([])\n",
    "# plt.subplot(122),plt.imshow(dst)\n",
    "# plt.title('Averaging'),plt.xticks([]),plt.yticks([])\n",
    "# plt.show()"
   ]
  },
  {
   "cell_type": "code",
   "execution_count": null,
   "metadata": {},
   "outputs": [],
   "source": []
  }
 ],
 "metadata": {
  "kernelspec": {
   "display_name": "Python 3",
   "language": "python",
   "name": "python3"
  },
  "language_info": {
   "codemirror_mode": {
    "name": "ipython",
    "version": 3
   },
   "file_extension": ".py",
   "mimetype": "text/x-python",
   "name": "python",
   "nbconvert_exporter": "python",
   "pygments_lexer": "ipython3",
   "version": "3.7.3"
  }
 },
 "nbformat": 4,
 "nbformat_minor": 4
}
